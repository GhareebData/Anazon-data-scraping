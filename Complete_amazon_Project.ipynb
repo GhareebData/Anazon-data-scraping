{
 "cells": [
  {
   "cell_type": "markdown",
   "id": "a811aab4",
   "metadata": {},
   "source": [
    "## Exploring the first page"
   ]
  },
  {
   "cell_type": "code",
   "execution_count": 1,
   "id": "5d063585",
   "metadata": {},
   "outputs": [],
   "source": [
    "import requests\n",
    "import re\n",
    "from bs4 import BeautifulSoup as bs\n",
    "import pandas as pd"
   ]
  },
  {
   "cell_type": "code",
   "execution_count": 2,
   "id": "de58fac7",
   "metadata": {},
   "outputs": [
    {
     "name": "stdout",
     "output_type": "stream",
     "text": [
      "https://www.amazon.com/s?k=multivitamin+for+kids+no+Vegetarian&page=1\n"
     ]
    }
   ],
   "source": [
    "\n",
    "serach_key = 'multivitamin for kids no Vegetarian'\n",
    "\n",
    "serach_key = serach_key.replace(' ', '+')\n",
    "\n",
    "\n",
    "url = f'https://www.amazon.com/s?k={serach_key}&page={1}'\n",
    "\n",
    "print(url)\n",
    "# make sure that splash is runing through Docker\n",
    "r = requests.get('http://localhost:8050/render.html',params={'url':url, 'wait':2})\n",
    "\n",
    "soup = bs(r.text, 'html.parser')"
   ]
  },
  {
   "cell_type": "code",
   "execution_count": 3,
   "id": "f7e26119",
   "metadata": {
    "scrolled": true
   },
   "outputs": [
    {
     "data": {
      "text/plain": [
       "[<div class=\"sg-col-4-of-12 s-result-item s-asin sg-col-4-of-16 AdHolder sg-col s-widget-spacing-small sg-col-4-of-20\" data-asin=\"B07PB657SW\" data-cel-widget=\"search_result_2\" data-component-type=\"s-search-result\" data-index=\"2\" data-uuid=\"64565644-8a75-4757-8c83-8bc94060813f\"><div class=\"sg-col-inner\"><div cel_widget_id=\"MAIN-SEARCH_RESULTS-2\" class=\"s-widget-container s-spacing-small s-widget-container-height-small celwidget slot=MAIN template=SEARCH_RESULTS widgetId=search-results_1\" data-cel-widget=\"MAIN-SEARCH_RESULTS-2\" data-csa-c-id=\"tf2ii5-czcch1-igf4pr-y14pey\">\n",
       " <div class=\"rush-component s-expand-height\" data-component-props='{\"percentageShownToFire\":\"50\",\"batchable\":true,\"requiredElementSelector\":\".s-image:visible\",\"url\":\"https://unagi-na.amazon.com/1/events/com.amazon.eel.SponsoredProductsEventTracking.prod?qualifier=1660952770&amp;id=6418073377703056&amp;widgetName=sp_atf&amp;adId=200075380197598&amp;eventType=1&amp;adIndex=0\"}' data-component-type=\"s-impression-logger\">\n",
       " <div class=\"rush-component s-featured-result-item s-expand-height\" data-component-props='{\"presenceCounterName\":\"sp_delivered\",\"testElementSelector\":\".s-image\",\"hiddenCounterName\":\"sp_hidden\"}' data-component-type=\"s-impression-counter\">\n",
       " <div class=\"s-card-container s-overflow-hidden aok-relative puis-expand-height puis-include-content-margin s-latency-cf-section s-card-border\"><div class=\"a-section a-spacing-base\"><div class=\"s-product-image-container aok-relative s-image-overlay-grey s-text-center s-padding-left-small s-padding-right-small puis-spacing-small s-height-equalized s-media-gallery s-media-gallery-treatment-T2\"><span class=\"rush-component\" data-component-type=\"s-product-image\"><a class=\"a-link-normal s-no-outline\" href=\"/sspa/click?ie=UTF8&amp;spc=MTo2NDE4MDczMzc3NzAzMDU2OjE2NjA5NTI3NzA6c3BfYXRmOjIwMDA3NTM4MDE5NzU5ODo6MDo6&amp;sp_csd=d2lkZ2V0TmFtZT1zcF9hdGY&amp;url=%2FMultivitamin-Organic-Plant-Based-Vitamins-Strawberry%2Fdp%2FB07PB657SW%2Fref%3Dsr_1_1_sspa%3Fkeywords%3Dmultivitamin%2Bfor%2Bkids%2Bno%2BVegetarian%26qid%3D1660952770%26sr%3D8-1-spons%26psc%3D1%26smid%3DA14M046EBK0J2H\"><div class=\"a-section aok-relative s-image-square-aspect\"><img alt=\"Sponsored Ad - Whole Fruit Gummy Vitamins for Kids No Added Sugar, Vegan Kids Multivitamin Gummies, Plant Based Multivitam...\" class=\"s-image\" data-image-index=\"1\" data-image-latency=\"s-product-image\" data-image-load=\"\" data-image-source-density=\"1\" src=\"https://m.media-amazon.com/images/I/71mxDPZBaNL._AC_UL320_.jpg\" srcset=\"https://m.media-amazon.com/images/I/71mxDPZBaNL._AC_UL320_.jpg 1x, https://m.media-amazon.com/images/I/71mxDPZBaNL._AC_UL480_QL65_.jpg 1.5x, https://m.media-amazon.com/images/I/71mxDPZBaNL._AC_UL640_QL65_.jpg 2x, https://m.media-amazon.com/images/I/71mxDPZBaNL._AC_UL800_QL65_.jpg 2.5x, https://m.media-amazon.com/images/I/71mxDPZBaNL._AC_UL960_QL65_.jpg 3x\"/><div class=\"s-media-gallery-image-stub aok-hidden\" data-s-media-gallery-image-properties='{\"src\":\"https://m.media-amazon.com/images/I/71U-PNtF0ML._AC_UL320_.jpg\",\"classes\":\"s-image aok-hidden\",\"alt\":\"Sponsored Ad - Whole Fruit Gummy Vitamins for Kids No Added Sugar, Vegan Kids Multivitamin Gummies, Plant Based Multivitam...\",\"srcset\":\"https://m.media-amazon.com/images/I/71U-PNtF0ML._AC_UL320_.jpg 1x, https://m.media-amazon.com/images/I/71U-PNtF0ML._AC_UL480_QL65_.jpg 1.5x, https://m.media-amazon.com/images/I/71U-PNtF0ML._AC_UL640_QL65_.jpg 2x, https://m.media-amazon.com/images/I/71U-PNtF0ML._AC_UL800_QL65_.jpg 2.5x, https://m.media-amazon.com/images/I/71U-PNtF0ML._AC_UL960_QL65_.jpg 3x\"}'></div><div class=\"s-media-gallery-image-stub aok-hidden\" data-s-media-gallery-image-properties='{\"src\":\"https://m.media-amazon.com/images/I/81pLk6ew+zL._AC_UL320_.jpg\",\"classes\":\"s-image aok-hidden\",\"alt\":\"Sponsored Ad - Whole Fruit Gummy Vitamins for Kids No Added Sugar, Vegan Kids Multivitamin Gummies, Plant Based Multivitam...\",\"srcset\":\"https://m.media-amazon.com/images/I/81pLk6ew+zL._AC_UL320_.jpg 1x, https://m.media-amazon.com/images/I/81pLk6ew+zL._AC_UL480_QL65_.jpg 1.5x, https://m.media-amazon.com/images/I/81pLk6ew+zL._AC_UL640_QL65_.jpg 2x, https://m.media-amazon.com/images/I/81pLk6ew+zL._AC_UL800_QL65_.jpg 2.5x, https://m.media-amazon.com/images/I/81pLk6ew+zL._AC_UL960_QL65_.jpg 3x\"}'></div><div class=\"s-media-gallery-image-stub aok-hidden\" data-s-media-gallery-image-properties='{\"src\":\"https://m.media-amazon.com/images/I/71qsra2JLCL._AC_UL320_.jpg\",\"classes\":\"s-image aok-hidden\",\"alt\":\"Sponsored Ad - Whole Fruit Gummy Vitamins for Kids No Added Sugar, Vegan Kids Multivitamin Gummies, Plant Based Multivitam...\",\"srcset\":\"https://m.media-amazon.com/images/I/71qsra2JLCL._AC_UL320_.jpg 1x, https://m.media-amazon.com/images/I/71qsra2JLCL._AC_UL480_QL65_.jpg 1.5x, https://m.media-amazon.com/images/I/71qsra2JLCL._AC_UL640_QL65_.jpg 2x, https://m.media-amazon.com/images/I/71qsra2JLCL._AC_UL800_QL65_.jpg 2.5x, https://m.media-amazon.com/images/I/71qsra2JLCL._AC_UL960_QL65_.jpg 3x\"}'></div><div class=\"s-media-gallery-image-stub aok-hidden\" data-s-media-gallery-image-properties='{\"src\":\"https://m.media-amazon.com/images/I/81pYm9eb3wL._AC_UL320_.jpg\",\"classes\":\"s-image aok-hidden\",\"alt\":\"Sponsored Ad - Whole Fruit Gummy Vitamins for Kids No Added Sugar, Vegan Kids Multivitamin Gummies, Plant Based Multivitam...\",\"srcset\":\"https://m.media-amazon.com/images/I/81pYm9eb3wL._AC_UL320_.jpg 1x, https://m.media-amazon.com/images/I/81pYm9eb3wL._AC_UL480_QL65_.jpg 1.5x, https://m.media-amazon.com/images/I/81pYm9eb3wL._AC_UL640_QL65_.jpg 2x, https://m.media-amazon.com/images/I/81pYm9eb3wL._AC_UL800_QL65_.jpg 2.5x, https://m.media-amazon.com/images/I/81pYm9eb3wL._AC_UL960_QL65_.jpg 3x\"}'></div><div class=\"s-media-gallery-image-stub aok-hidden\" data-s-media-gallery-image-properties='{\"src\":\"https://m.media-amazon.com/images/I/71tYTnee+AL._AC_UL320_.jpg\",\"classes\":\"s-image aok-hidden\",\"alt\":\"Sponsored Ad - Whole Fruit Gummy Vitamins for Kids No Added Sugar, Vegan Kids Multivitamin Gummies, Plant Based Multivitam...\",\"srcset\":\"https://m.media-amazon.com/images/I/71tYTnee+AL._AC_UL320_.jpg 1x, https://m.media-amazon.com/images/I/71tYTnee+AL._AC_UL480_QL65_.jpg 1.5x, https://m.media-amazon.com/images/I/71tYTnee+AL._AC_UL640_QL65_.jpg 2x, https://m.media-amazon.com/images/I/71tYTnee+AL._AC_UL800_QL65_.jpg 2.5x, https://m.media-amazon.com/images/I/71tYTnee+AL._AC_UL960_QL65_.jpg 3x\"}'></div><div class=\"s-media-gallery-image-stub aok-hidden\" data-s-media-gallery-image-properties='{\"src\":\"https://m.media-amazon.com/images/I/71NxuAyMHOL._AC_UL320_.jpg\",\"classes\":\"s-image aok-hidden\",\"alt\":\"Sponsored Ad - Whole Fruit Gummy Vitamins for Kids No Added Sugar, Vegan Kids Multivitamin Gummies, Plant Based Multivitam...\",\"srcset\":\"https://m.media-amazon.com/images/I/71NxuAyMHOL._AC_UL320_.jpg 1x, https://m.media-amazon.com/images/I/71NxuAyMHOL._AC_UL480_QL65_.jpg 1.5x, https://m.media-amazon.com/images/I/71NxuAyMHOL._AC_UL640_QL65_.jpg 2x, https://m.media-amazon.com/images/I/71NxuAyMHOL._AC_UL800_QL65_.jpg 2.5x, https://m.media-amazon.com/images/I/71NxuAyMHOL._AC_UL960_QL65_.jpg 3x\"}'></div><div class=\"s-media-gallery-control-container\"><button aria-label=\"Previous image\" class=\"s-media-gallery-arrow s-media-gallery-previous\"><svg aria-hidden=\"true\" class=\"aok-align-top\" focusable=\"false\" height=\"20\" viewbox=\"0 0 20 20\" width=\"20\" xmlns=\"http://www.w3.org/2000/svg\"><path d=\"m12.475 17.778-4.95-4.95L4.697 10l2.828-2.828 4.95-4.95 2.828 2.828-4.95 4.95 4.95 4.95Z\"></path></svg></button><button aria-label=\"Next image\" class=\"s-media-gallery-arrow s-media-gallery-next\"><svg aria-hidden=\"true\" class=\"aok-align-top\" focusable=\"false\" height=\"20\" viewbox=\"0 0 20 20\" width=\"20\" xmlns=\"http://www.w3.org/2000/svg\"><path d=\"m7.525 17.778 4.95-4.95L15.303 10l-2.828-2.828-4.95-4.95L4.697 5.05 9.647 10l-4.95 4.95Z\"></path></svg></button></div></div></a></span></div><div class=\"a-section a-spacing-small puis-padding-left-small puis-padding-right-small\"><div class=\"a-section a-spacing-none a-spacing-top-small s-title-instructions-style\"><div class=\"a-row a-spacing-micro\"><span class=\"a-declarative\" data-a-popover='{\"closeButton\":\"true\",\"dataStrategy\":\"preload\",\"name\":\"sp-info-popover-B07PB657SW\",\"position\":\"triggerVertical\"}' data-action=\"a-popover\" data-csa-c-func-deps=\"aui-da-a-popover\" data-csa-c-id=\"qspg41-dgusw1-nzp4yo-b98g8p\" data-csa-c-type=\"widget\"><a aria-label=\"View Sponsored information or leave ad feedback\" class=\"s-label-popover s-sponsored-label-text\" href=\"javascript:void(0)\" role=\"button\" style=\"text-decoration: none;\"><span class=\"s-label-popover-default\"><span class=\"a-color-secondary\">Sponsored</span></span><span class=\"s-label-popover-hover\"><span class=\"a-color-base\">Sponsored</span></span> <span class=\"aok-inline-block s-sponsored-label-info-icon\"></span></a></span><div class=\"a-popover-preload\" id=\"a-popover-sp-info-popover-B07PB657SW\"><span>You’re seeing this ad based on the product’s relevance to your search query.</span><div class=\"a-row\"><span class=\"a-declarative\" data-action=\"s-safe-ajax-modal-trigger\" data-csa-c-func-deps=\"aui-da-s-safe-ajax-modal-trigger\" data-csa-c-id=\"avew7-2msifv-wy7eyn-zarxiq\" data-csa-c-type=\"widget\" data-s-safe-ajax-modal-trigger='{\"ajaxUrl\":\"/af/sp-loom/feedback-form?pl=%7B%22adPlacementMetaData%22%3A%7B%22searchTerms%22%3A%22bXVsdGl2aXRhbWluIGZvciBraWRzIG5vIFZlZ2V0YXJpYW4%3D%22%2C%22pageType%22%3A%22Search%22%2C%22feedbackType%22%3A%22sponsoredProductsLoom%22%2C%22slotName%22%3A%22TOP%22%7D%2C%22adCreativeMetaData%22%3A%7B%22adProgramId%22%3A1024%2C%22adCreativeDetails%22%3A%5B%7B%22asin%22%3A%22B07PB657SW%22%2C%22title%22%3A%22Whole+Fruit+Gummy+Vitamins+for+Kids+No+Added+Sugar%2C+Vegan+Kids+Multivitamin+Gummies%2C+Plant+Based+Mul%22%2C%22priceInfo%22%3A%7B%22amount%22%3A25.95%2C%22currencyCode%22%3A%22USD%22%7D%2C%22sku%22%3A%22KidsStrawberryBitesNew%22%2C%22adId%22%3A%22A02138552MDGLDZTRLFDH%22%2C%22campaignId%22%3A%22A03777363SIURU2IOF94J%22%7D%5D%7D%7D\",\"dataStrategy\":\"ajax\",\"header\":\"Share your feedback\"}'><a class=\"a-link-normal s-underline-text s-underline-link-text s-link-style\" href=\"#\"><span>Leave ad feedback</span> </a> </span></div></div></div><h2 class=\"a-size-mini a-spacing-none a-color-base s-line-clamp-3\"><a class=\"a-link-normal s-underline-text s-underline-link-text s-link-style a-text-normal\" href=\"/sspa/click?ie=UTF8&amp;spc=MTo2NDE4MDczMzc3NzAzMDU2OjE2NjA5NTI3NzA6c3BfYXRmOjIwMDA3NTM4MDE5NzU5ODo6MDo6&amp;sp_csd=d2lkZ2V0TmFtZT1zcF9hdGY&amp;url=%2FMultivitamin-Organic-Plant-Based-Vitamins-Strawberry%2Fdp%2FB07PB657SW%2Fref%3Dsr_1_1_sspa%3Fkeywords%3Dmultivitamin%2Bfor%2Bkids%2Bno%2BVegetarian%26qid%3D1660952770%26sr%3D8-1-spons%26psc%3D1%26smid%3DA14M046EBK0J2H\"><span class=\"a-size-base-plus a-color-base a-text-normal\">Whole Fruit Gummy Vitamins for Kids No Added Sugar, Vegan Kids Multivitamin Gummies, Plant Based Multivitamin for Kids, Whole Foods Toddler Vitamins, Organic Kids Vitamins Chewable 60 Bites Strawberry</span> </a> </h2><div class=\"a-row a-size-base a-color-secondary\"><div class=\"a-row\"><div class=\"a-row a-spacing-top-micro a-color-base\"><span class=\"a-color-information a-text-bold\">60 Count (Pack of 1)</span></div></div></div></div><div class=\"a-section a-spacing-none a-spacing-top-micro\"><div class=\"a-row a-size-small\"><span aria-label=\"4.3 out of 5 stars\"><span class=\"a-declarative\" data-a-popover='{\"closeButton\":false,\"closeButtonLabel\":\"\",\"position\":\"triggerBottom\",\"popoverLabel\":\"\",\"url\":\"/review/widgets/average-customer-review/popover/ref=acr_search__popover?ie=UTF8&amp;asin=B07PB657SW&amp;ref=acr_search__popover&amp;contextId=search\"}' data-action=\"a-popover\" data-csa-c-func-deps=\"aui-da-a-popover\" data-csa-c-id=\"226c7k-qt3k5k-3rcda6-j5rifh\" data-csa-c-type=\"widget\"><a class=\"a-popover-trigger a-declarative\" href=\"javascript:void(0)\" role=\"button\"><i class=\"a-icon a-icon-star-small a-star-small-4-5 aok-align-bottom\"><span class=\"a-icon-alt\">4.3 out of 5 stars</span></i><i class=\"a-icon a-icon-popover\"></i></a></span> </span><span aria-label=\"1,772\"><a class=\"a-link-normal s-underline-text s-underline-link-text s-link-style\" href=\"/sspa/click?ie=UTF8&amp;spc=MTo2NDE4MDczMzc3NzAzMDU2OjE2NjA5NTI3NzA6c3BfYXRmOjIwMDA3NTM4MDE5NzU5ODo6MDo6&amp;sp_csd=d2lkZ2V0TmFtZT1zcF9hdGY&amp;url=%2FMultivitamin-Organic-Plant-Based-Vitamins-Strawberry%2Fdp%2FB07PB657SW%2Fref%3Dsr_1_1_sspa%3Fkeywords%3Dmultivitamin%2Bfor%2Bkids%2Bno%2BVegetarian%26qid%3D1660952770%26sr%3D8-1-spons%26psc%3D1%26smid%3DA14M046EBK0J2H#customerReviews\"><span class=\"a-size-base s-underline-text\">1,772</span> </a> </span></div></div><div class=\"a-section a-spacing-none a-spacing-top-small s-price-instructions-style\"><div class=\"a-row a-size-base a-color-base\"><a class=\"a-size-base a-link-normal s-underline-text s-underline-link-text s-link-style a-text-normal\" href=\"/sspa/click?ie=UTF8&amp;spc=MTo2NDE4MDczMzc3NzAzMDU2OjE2NjA5NTI3NzA6c3BfYXRmOjIwMDA3NTM4MDE5NzU5ODo6MDo6&amp;sp_csd=d2lkZ2V0TmFtZT1zcF9hdGY&amp;url=%2FMultivitamin-Organic-Plant-Based-Vitamins-Strawberry%2Fdp%2FB07PB657SW%2Fref%3Dsr_1_1_sspa%3Fkeywords%3Dmultivitamin%2Bfor%2Bkids%2Bno%2BVegetarian%26qid%3D1660952770%26sr%3D8-1-spons%26psc%3D1%26smid%3DA14M046EBK0J2H\"><span class=\"a-price\" data-a-color=\"base\" data-a-size=\"xl\"><span class=\"a-offscreen\">$25.95</span><span aria-hidden=\"true\"><span class=\"a-price-symbol\">$</span><span class=\"a-price-whole\">25<span class=\"a-price-decimal\">.</span></span><span class=\"a-price-fraction\">95</span></span></span> <span class=\"a-size-base a-color-secondary\">($0.43/Count)</span> </a> </div><div class=\"a-row a-size-base a-color-secondary\"><span>$23.36 with Subscribe &amp; Save discount</span></div></div><div class=\"a-section a-spacing-none a-spacing-top-micro\"><div class=\"a-row a-size-base a-color-secondary s-align-children-center\"><div class=\"a-row s-align-children-center\"><span class=\"aok-inline-block s-image-logo-view\"><span class=\"aok-relative s-icon-text-medium s-prime\"><i aria-label=\"Amazon Prime\" class=\"a-icon a-icon-prime a-icon-medium\" role=\"img\"></i></span><span></span></span> <span aria-label=\"Get it as soon as Sun, Aug 21\"><span class=\"a-color-base\">Get it as soon as </span><span class=\"a-color-base a-text-bold\">Sun, Aug 21</span></span></div><div class=\"a-row\"><span aria-label=\"FREE Shipping by Amazon\"><span class=\"a-color-base\">FREE Shipping by Amazon</span></span></div></div></div><div class=\"a-section a-spacing-none a-spacing-top-micro\"><div class=\"a-section a-spacing-none s-align-children-center\"><div><div class=\"s-align-children-center\"><span class=\"a-declarative\" data-action=\"s-pc-popover\" data-csa-c-func-deps=\"aui-da-s-pc-popover\" data-csa-c-id=\"p9mk5l-igmw11-3wfo1w-rfkne1\" data-csa-c-type=\"widget\" data-s-pc-popover='{\"closeButton\":true,\"closeButtonLabel\":\"Close popup\",\"activate\":\"onclick\",\"name\":\"pc-popover-B07PB657SW\",\"width\":339,\"popoverLabel\":\"Provenance certifications for this product\",\"position\":\"triggerBottom\",\"interactLoggingMetricsList\":[\"provenanceCertifications_desktop_cpf_badge\",\"provenanceCertifications_desktop_sbe_badge\"]}'><a class=\"a-popover-trigger a-declarative s-no-underline s-pc-badge s-align-children-center\" href=\"javascript:void(0)\" role=\"button\"><span class=\"faceout-image-view\"></span><img alt=\"\" class=\"s-image\" height=\"18px\" src=\"https://m.media-amazon.com/images/I/216-OX9rBaL._SS200_.png\" width=\"18px\"/> <span class=\"a-size-base a-color-base\">Climate Pledge Friendly</span><i class=\"a-icon a-icon-popover\"></i></a></span></div></div><div><div class=\"s-align-children-center\"><span class=\"a-declarative\" data-action=\"s-pc-popover\" data-csa-c-func-deps=\"aui-da-s-pc-popover\" data-csa-c-id=\"e7p5mq-feqcas-tgwttw-trket2\" data-csa-c-type=\"widget\" data-s-pc-popover='{\"closeButton\":true,\"closeButtonLabel\":\"Close popup\",\"activate\":\"onclick\",\"name\":\"pc-popover-B07PB657SW\",\"width\":339,\"popoverLabel\":\"Provenance certifications for this product\",\"position\":\"triggerBottom\",\"interactLoggingMetricsList\":[\"provenanceCertifications_desktop_cpf_badge\",\"provenanceCertifications_desktop_sbe_badge\"]}'><a class=\"a-popover-trigger a-declarative s-no-underline s-pc-badge s-align-children-center\" href=\"javascript:void(0)\" role=\"button\"><span class=\"faceout-image-view\"></span><img alt=\"\" class=\"s-image\" height=\"18px\" src=\"https://m.media-amazon.com/images/I/31DkPH3h2nL._SS200_.png\" width=\"18px\"/> <span class=\"a-size-base a-color-base\">Small Business</span><i class=\"a-icon a-icon-popover\"></i></a></span></div></div></div><div class=\"a-popover-preload\" id=\"a-popover-pc-popover-B07PB657SW\"><div class=\"s-align-children-center\"><div class=\"s-align-children-center\"><span class=\"faceout-image-view\"></span><div alt=\"\" class=\"a-image-wrapper a-lazy-loaded a-manually-loaded s-image\" data-a-image-source=\"https://m.media-amazon.com/images/I/216-OX9rBaL._SS200_.png\" style=\"height: 50px; width: 50px;\"><noscript>&lt;img alt=\"\" src=\"https://m.media-amazon.com/images/I/216-OX9rBaL._SS200_.png\" height=\"50px\" width=\"50px\"/&gt;</noscript></div> <span class=\"a-size-base a-color-base a-text-bold\">Climate Pledge Friendly</span></div></div><div class=\"a-spacing-small\"><span class=\"a-size-base a-color-secondary\">Climate Pledge Friendly uses sustainability certifications to highlight products that support our commitment to help preserve the natural world. Time is fleeting.</span> <a class=\"a-link-normal s-underline-text s-underline-link-text s-link-style\" href=\"/climatepledgefriendly\">Learn more</a> </div><div class=\"a-spacing-small\"><span class=\"a-size-base a-color-tertiary a-text-bold\">PRODUCT CERTIFICATION (1)</span></div><div class=\"a-spacing-small s-align-children-center s-pc-certification\"><div class=\"s-pc-certification-logo aok-inline-block\"><span class=\"faceout-image-view\"></span><div alt=\"\" class=\"a-image-wrapper a-lazy-loaded a-manually-loaded s-image\" data-a-image-source=\"https://m.media-amazon.com/images/I/31P6BHLM8wL._SS200_.png\" style=\"height: 50px; width: 50px;\"><noscript>&lt;img alt=\"\" src=\"https://m.media-amazon.com/images/I/31P6BHLM8wL._SS200_.png\" height=\"50px\" width=\"50px\"/&gt;</noscript></div> </div><div class=\"a-section s-margin-bottom-none aok-inline-block\"><a class=\"a-link-normal s-underline-text s-underline-link-text s-link-style\" href=\"/sspa/click?ie=UTF8&amp;spc=MTo2NDE4MDczMzc3NzAzMDU2OjE2NjA5NTI3NzA6c3BfYXRmOjIwMDA3NTM4MDE5NzU5ODo6MDo6&amp;sp_csd=d2lkZ2V0TmFtZT1zcF9hdGY&amp;url=%2FMultivitamin-Organic-Plant-Based-Vitamins-Strawberry%2Fdp%2FB07PB657SW%2Fref%3Dsr_1_1_sspa%3Fkeywords%3Dmultivitamin%2Bfor%2Bkids%2Bno%2BVegetarian%26qid%3D1660952770%26sr%3D8-1-spons%26psc%3D1%26smid%3DA14M046EBK0J2H\">USDA Organic</a> </div></div><hr aria-hidden=\"true\" class=\"a-spacing-top-base a-divider-normal\"/><div class=\"s-align-children-center\"><div class=\"s-align-children-center\"><span class=\"faceout-image-view\"></span><div alt=\"\" class=\"a-image-wrapper a-lazy-loaded a-manually-loaded s-image\" data-a-image-source=\"https://m.media-amazon.com/images/I/31DkPH3h2nL._SS200_.png\" style=\"height: 50px; width: 50px;\"><noscript>&lt;img alt=\"\" src=\"https://m.media-amazon.com/images/I/31DkPH3h2nL._SS200_.png\" height=\"50px\" width=\"50px\"/&gt;</noscript></div> <span class=\"a-size-base a-color-base a-text-bold\">Small Business</span></div></div><div class=\"a-spacing-small\"><span class=\"a-size-base a-color-secondary\">Shop products from small business brands sold in Amazon’s store. Discover more about the small businesses partnering with Amazon and Amazon’s commitment to empowering them.</span> <a class=\"a-link-normal s-underline-text s-underline-link-text s-link-style\" href=\"https://www.amazon.com/b/ref=s9_acss_bw_cg_sbp22c_1e1_w/ref=SBE_navbar_5?pf_rd_r=6W5X52VNZRB7GK1E1VX2&amp;pf_rd_p=56621c3d-cff4-45e1-9bf4-79bbeb8006fc&amp;pf_rd_m=ATVPDKIKX0DER&amp;pf_rd_s=merchandised-search-top-3&amp;pf_rd_t=30901&amp;pf_rd_i=17879387011&amp;node=18018208011\">Learn more</a> </div></div></div></div></div></div>\n",
       " </div>\n",
       " </div>\n",
       " </div></div></div>,\n",
       " <div class=\"sg-col-4-of-12 s-result-item s-asin sg-col-4-of-16 AdHolder sg-col s-widget-spacing-small sg-col-4-of-20\" data-asin=\"B00S7K1432\" data-cel-widget=\"search_result_3\" data-component-type=\"s-search-result\" data-index=\"3\" data-uuid=\"ff6bb4ee-7ee6-4920-b1b7-72f3f74d6d36\"><div class=\"sg-col-inner\"><div cel_widget_id=\"MAIN-SEARCH_RESULTS-3\" class=\"s-widget-container s-spacing-small s-widget-container-height-small celwidget slot=MAIN template=SEARCH_RESULTS widgetId=search-results_2\" data-cel-widget=\"MAIN-SEARCH_RESULTS-3\" data-csa-c-id=\"9uwm3o-6s687n-g53mf9-antgmf\">\n",
       " <div class=\"rush-component s-expand-height\" data-component-props='{\"percentageShownToFire\":\"50\",\"batchable\":true,\"requiredElementSelector\":\".s-image:visible\",\"url\":\"https://unagi-na.amazon.com/1/events/com.amazon.eel.SponsoredProductsEventTracking.prod?qualifier=1660952770&amp;id=6418073377703056&amp;widgetName=sp_atf&amp;adId=200055116325598&amp;eventType=1&amp;adIndex=1\"}' data-component-type=\"s-impression-logger\">\n",
       " <div class=\"rush-component s-featured-result-item s-expand-height\" data-component-props='{\"presenceCounterName\":\"sp_delivered\",\"testElementSelector\":\".s-image\",\"hiddenCounterName\":\"sp_hidden\"}' data-component-type=\"s-impression-counter\">\n",
       " <div class=\"s-card-container s-overflow-hidden aok-relative puis-expand-height puis-include-content-margin s-latency-cf-section s-card-border\"><div class=\"a-section a-spacing-base\"><div class=\"s-product-image-container aok-relative s-image-overlay-grey s-text-center s-padding-left-small s-padding-right-small puis-spacing-small s-height-equalized s-media-gallery s-media-gallery-treatment-T2\"><span class=\"rush-component\" data-component-type=\"s-product-image\"><a class=\"a-link-normal s-no-outline\" href=\"/sspa/click?ie=UTF8&amp;spc=MTo2NDE4MDczMzc3NzAzMDU2OjE2NjA5NTI3NzA6c3BfYXRmOjIwMDA1NTExNjMyNTU5ODo6MDo6&amp;sp_csd=d2lkZ2V0TmFtZT1zcF9hdGY&amp;url=%2FNovaFerrum-Multivitamin-Supplement-Infants-Toddlers%2Fdp%2FB00S7K1432%2Fref%3Dsr_1_2_sspa%3Fkeywords%3Dmultivitamin%2Bfor%2Bkids%2Bno%2BVegetarian%26qid%3D1660952770%26sr%3D8-2-spons%26psc%3D1\"><div class=\"a-section aok-relative s-image-square-aspect\"><img alt=\"Sponsored Ad - NovaFerrum YUM | Multivitamin with Iron for Infants and Toddlers | Multivitamin with Iron For Kids | Immune...\" class=\"s-image\" data-image-index=\"2\" data-image-latency=\"s-product-image\" data-image-load=\"\" data-image-source-density=\"1\" src=\"https://m.media-amazon.com/images/I/71RF+jsNJEL._AC_UL320_.jpg\" srcset=\"https://m.media-amazon.com/images/I/71RF+jsNJEL._AC_UL320_.jpg 1x, https://m.media-amazon.com/images/I/71RF+jsNJEL._AC_UL480_QL65_.jpg 1.5x, https://m.media-amazon.com/images/I/71RF+jsNJEL._AC_UL640_QL65_.jpg 2x, https://m.media-amazon.com/images/I/71RF+jsNJEL._AC_UL800_QL65_.jpg 2.5x, https://m.media-amazon.com/images/I/71RF+jsNJEL._AC_UL960_QL65_.jpg 3x\"/><div class=\"s-media-gallery-image-stub aok-hidden\" data-s-media-gallery-image-properties='{\"src\":\"https://m.media-amazon.com/images/I/81HmPOGzJIL._AC_UL320_.jpg\",\"classes\":\"s-image aok-hidden\",\"alt\":\"Sponsored Ad - NovaFerrum YUM | Multivitamin with Iron for Infants and Toddlers | Multivitamin with Iron For Kids | Immune...\",\"srcset\":\"https://m.media-amazon.com/images/I/81HmPOGzJIL._AC_UL320_.jpg 1x, https://m.media-amazon.com/images/I/81HmPOGzJIL._AC_UL480_QL65_.jpg 1.5x, https://m.media-amazon.com/images/I/81HmPOGzJIL._AC_UL640_QL65_.jpg 2x, https://m.media-amazon.com/images/I/81HmPOGzJIL._AC_UL800_QL65_.jpg 2.5x, https://m.media-amazon.com/images/I/81HmPOGzJIL._AC_UL960_QL65_.jpg 3x\"}'></div><div class=\"s-media-gallery-image-stub aok-hidden\" data-s-media-gallery-image-properties='{\"src\":\"https://m.media-amazon.com/images/I/7157+CDezjL._AC_UL320_.jpg\",\"classes\":\"s-image aok-hidden\",\"alt\":\"Sponsored Ad - NovaFerrum YUM | Multivitamin with Iron for Infants and Toddlers | Multivitamin with Iron For Kids | Immune...\",\"srcset\":\"https://m.media-amazon.com/images/I/7157+CDezjL._AC_UL320_.jpg 1x, https://m.media-amazon.com/images/I/7157+CDezjL._AC_UL480_QL65_.jpg 1.5x, https://m.media-amazon.com/images/I/7157+CDezjL._AC_UL640_QL65_.jpg 2x, https://m.media-amazon.com/images/I/7157+CDezjL._AC_UL800_QL65_.jpg 2.5x, https://m.media-amazon.com/images/I/7157+CDezjL._AC_UL960_QL65_.jpg 3x\"}'></div><div class=\"s-media-gallery-image-stub aok-hidden\" data-s-media-gallery-image-properties='{\"src\":\"https://m.media-amazon.com/images/I/81a27T+YbyL._AC_UL320_.jpg\",\"classes\":\"s-image aok-hidden\",\"alt\":\"Sponsored Ad - NovaFerrum YUM | Multivitamin with Iron for Infants and Toddlers | Multivitamin with Iron For Kids | Immune...\",\"srcset\":\"https://m.media-amazon.com/images/I/81a27T+YbyL._AC_UL320_.jpg 1x, https://m.media-amazon.com/images/I/81a27T+YbyL._AC_UL480_QL65_.jpg 1.5x, https://m.media-amazon.com/images/I/81a27T+YbyL._AC_UL640_QL65_.jpg 2x, https://m.media-amazon.com/images/I/81a27T+YbyL._AC_UL800_QL65_.jpg 2.5x, https://m.media-amazon.com/images/I/81a27T+YbyL._AC_UL960_QL65_.jpg 3x\"}'></div><div class=\"s-media-gallery-image-stub aok-hidden\" data-s-media-gallery-image-properties='{\"src\":\"https://m.media-amazon.com/images/I/812RFeNv4YL._AC_UL320_.jpg\",\"classes\":\"s-image aok-hidden\",\"alt\":\"Sponsored Ad - NovaFerrum YUM | Multivitamin with Iron for Infants and Toddlers | Multivitamin with Iron For Kids | Immune...\",\"srcset\":\"https://m.media-amazon.com/images/I/812RFeNv4YL._AC_UL320_.jpg 1x, https://m.media-amazon.com/images/I/812RFeNv4YL._AC_UL480_QL65_.jpg 1.5x, https://m.media-amazon.com/images/I/812RFeNv4YL._AC_UL640_QL65_.jpg 2x, https://m.media-amazon.com/images/I/812RFeNv4YL._AC_UL800_QL65_.jpg 2.5x, https://m.media-amazon.com/images/I/812RFeNv4YL._AC_UL960_QL65_.jpg 3x\"}'></div><div class=\"s-media-gallery-image-stub aok-hidden\" data-s-media-gallery-image-properties='{\"src\":\"https://m.media-amazon.com/images/I/61Qi3BRL44L._AC_UL320_.jpg\",\"classes\":\"s-image aok-hidden\",\"alt\":\"Sponsored Ad - NovaFerrum YUM | Multivitamin with Iron for Infants and Toddlers | Multivitamin with Iron For Kids | Immune...\",\"srcset\":\"https://m.media-amazon.com/images/I/61Qi3BRL44L._AC_UL320_.jpg 1x, https://m.media-amazon.com/images/I/61Qi3BRL44L._AC_UL480_QL65_.jpg 1.5x, https://m.media-amazon.com/images/I/61Qi3BRL44L._AC_UL640_QL65_.jpg 2x, https://m.media-amazon.com/images/I/61Qi3BRL44L._AC_UL800_QL65_.jpg 2.5x, https://m.media-amazon.com/images/I/61Qi3BRL44L._AC_UL960_QL65_.jpg 3x\"}'></div><div class=\"s-media-gallery-control-container\"><button aria-label=\"Previous image\" class=\"s-media-gallery-arrow s-media-gallery-previous\"><svg aria-hidden=\"true\" class=\"aok-align-top\" focusable=\"false\" height=\"20\" viewbox=\"0 0 20 20\" width=\"20\" xmlns=\"http://www.w3.org/2000/svg\"><path d=\"m12.475 17.778-4.95-4.95L4.697 10l2.828-2.828 4.95-4.95 2.828 2.828-4.95 4.95 4.95 4.95Z\"></path></svg></button><button aria-label=\"Next image\" class=\"s-media-gallery-arrow s-media-gallery-next\"><svg aria-hidden=\"true\" class=\"aok-align-top\" focusable=\"false\" height=\"20\" viewbox=\"0 0 20 20\" width=\"20\" xmlns=\"http://www.w3.org/2000/svg\"><path d=\"m7.525 17.778 4.95-4.95L15.303 10l-2.828-2.828-4.95-4.95L4.697 5.05 9.647 10l-4.95 4.95Z\"></path></svg></button></div></div></a></span></div><div class=\"a-section a-spacing-small puis-padding-left-small puis-padding-right-small\"><div class=\"a-section a-spacing-none a-spacing-top-small s-title-instructions-style\"><div class=\"a-row a-spacing-micro\"><span class=\"a-declarative\" data-a-popover='{\"closeButton\":\"true\",\"dataStrategy\":\"preload\",\"name\":\"sp-info-popover-B00S7K1432\",\"position\":\"triggerVertical\"}' data-action=\"a-popover\" data-csa-c-func-deps=\"aui-da-a-popover\" data-csa-c-id=\"hzpgku-pjvoad-ccjkug-1t9zdm\" data-csa-c-type=\"widget\"><a aria-label=\"View Sponsored information or leave ad feedback\" class=\"s-label-popover s-sponsored-label-text\" href=\"javascript:void(0)\" role=\"button\" style=\"text-decoration: none;\"><span class=\"s-label-popover-default\"><span class=\"a-color-secondary\">Sponsored</span></span><span class=\"s-label-popover-hover\"><span class=\"a-color-base\">Sponsored</span></span> <span class=\"aok-inline-block s-sponsored-label-info-icon\"></span></a></span><div class=\"a-popover-preload\" id=\"a-popover-sp-info-popover-B00S7K1432\"><span>You’re seeing this ad based on the product’s relevance to your search query.</span><div class=\"a-row\"><span class=\"a-declarative\" data-action=\"s-safe-ajax-modal-trigger\" data-csa-c-func-deps=\"aui-da-s-safe-ajax-modal-trigger\" data-csa-c-id=\"dle3n9-ojqwi7-ci2ucc-bkjh9c\" data-csa-c-type=\"widget\" data-s-safe-ajax-modal-trigger='{\"ajaxUrl\":\"/af/sp-loom/feedback-form?pl=%7B%22adPlacementMetaData%22%3A%7B%22searchTerms%22%3A%22bXVsdGl2aXRhbWluIGZvciBraWRzIG5vIFZlZ2V0YXJpYW4%3D%22%2C%22pageType%22%3A%22Search%22%2C%22feedbackType%22%3A%22sponsoredProductsLoom%22%2C%22slotName%22%3A%22TOP%22%7D%2C%22adCreativeMetaData%22%3A%7B%22adProgramId%22%3A1024%2C%22adCreativeDetails%22%3A%5B%7B%22asin%22%3A%22B00S7K1432%22%2C%22title%22%3A%22NovaFerrum+YUM+%7C+Multivitamin+with+Iron+for+Infants+and+Toddlers+%7C+Multivitamin+with+Iron+For+Kids+%7C%22%2C%22priceInfo%22%3A%7B%22amount%22%3A17.99%2C%22currencyCode%22%3A%22USD%22%7D%2C%22sku%22%3A%22HJ-E0NE-GLMP%22%2C%22adId%22%3A%22A0303463GB8287UWXX53%22%2C%22campaignId%22%3A%22A0607978UBOE4EL5BP2U%22%7D%5D%7D%7D\",\"dataStrategy\":\"ajax\",\"header\":\"Share your feedback\"}'><a class=\"a-link-normal s-underline-text s-underline-link-text s-link-style\" href=\"#\"><span>Leave ad feedback</span> </a> </span></div></div></div><h2 class=\"a-size-mini a-spacing-none a-color-base s-line-clamp-3\"><a class=\"a-link-normal s-underline-text s-underline-link-text s-link-style a-text-normal\" href=\"/sspa/click?ie=UTF8&amp;spc=MTo2NDE4MDczMzc3NzAzMDU2OjE2NjA5NTI3NzA6c3BfYXRmOjIwMDA1NTExNjMyNTU5ODo6MDo6&amp;sp_csd=d2lkZ2V0TmFtZT1zcF9hdGY&amp;url=%2FNovaFerrum-Multivitamin-Supplement-Infants-Toddlers%2Fdp%2FB00S7K1432%2Fref%3Dsr_1_2_sspa%3Fkeywords%3Dmultivitamin%2Bfor%2Bkids%2Bno%2BVegetarian%26qid%3D1660952770%26sr%3D8-2-spons%26psc%3D1\"><span class=\"a-size-base-plus a-color-base a-text-normal\">NovaFerrum YUM | Multivitamin with Iron for Infants and Toddlers | Multivitamin with Iron For Kids | Immune Support | Ages 4 &amp; Under | Gluten Free Certified | Sugar Free | Raspberry Grape | 2 Fl Oz (50 mL)</span> </a> </h2><div class=\"a-row a-size-base a-color-secondary\"><div class=\"a-row\"><div class=\"a-row a-spacing-top-micro a-color-base\"><span class=\"a-color-information a-text-bold\">1.69 Fl Oz (Pack of 1)</span></div></div></div></div><div class=\"a-section a-spacing-none a-spacing-top-micro\"><div class=\"a-row a-size-small\"><span aria-label=\"4.6 out of 5 stars\"><span class=\"a-declarative\" data-a-popover='{\"closeButton\":false,\"closeButtonLabel\":\"\",\"position\":\"triggerBottom\",\"popoverLabel\":\"\",\"url\":\"/review/widgets/average-customer-review/popover/ref=acr_search__popover?ie=UTF8&amp;asin=B00S7K1432&amp;ref=acr_search__popover&amp;contextId=search\"}' data-action=\"a-popover\" data-csa-c-func-deps=\"aui-da-a-popover\" data-csa-c-id=\"e0ay26-fyivo8-d3edij-slnaf6\" data-csa-c-type=\"widget\"><a class=\"a-popover-trigger a-declarative\" href=\"javascript:void(0)\" role=\"button\"><i class=\"a-icon a-icon-star-small a-star-small-4-5 aok-align-bottom\"><span class=\"a-icon-alt\">4.6 out of 5 stars</span></i><i class=\"a-icon a-icon-popover\"></i></a></span> </span><span aria-label=\"8,348\"><a class=\"a-link-normal s-underline-text s-underline-link-text s-link-style\" href=\"/sspa/click?ie=UTF8&amp;spc=MTo2NDE4MDczMzc3NzAzMDU2OjE2NjA5NTI3NzA6c3BfYXRmOjIwMDA1NTExNjMyNTU5ODo6MDo6&amp;sp_csd=d2lkZ2V0TmFtZT1zcF9hdGY&amp;url=%2FNovaFerrum-Multivitamin-Supplement-Infants-Toddlers%2Fdp%2FB00S7K1432%2Fref%3Dsr_1_2_sspa%3Fkeywords%3Dmultivitamin%2Bfor%2Bkids%2Bno%2BVegetarian%26qid%3D1660952770%26sr%3D8-2-spons%26psc%3D1#customerReviews\"><span class=\"a-size-base s-underline-text\">8,348</span> </a> </span></div></div><div class=\"a-section a-spacing-none a-spacing-top-small s-price-instructions-style\"><div class=\"a-row a-size-base a-color-base\"><a class=\"a-size-base a-link-normal s-underline-text s-underline-link-text s-link-style a-text-normal\" href=\"/sspa/click?ie=UTF8&amp;spc=MTo2NDE4MDczMzc3NzAzMDU2OjE2NjA5NTI3NzA6c3BfYXRmOjIwMDA1NTExNjMyNTU5ODo6MDo6&amp;sp_csd=d2lkZ2V0TmFtZT1zcF9hdGY&amp;url=%2FNovaFerrum-Multivitamin-Supplement-Infants-Toddlers%2Fdp%2FB00S7K1432%2Fref%3Dsr_1_2_sspa%3Fkeywords%3Dmultivitamin%2Bfor%2Bkids%2Bno%2BVegetarian%26qid%3D1660952770%26sr%3D8-2-spons%26psc%3D1\"><span class=\"a-size-extra-large s-color-discount puis-light-weight-text\">-10%</span> <span class=\"a-price\" data-a-color=\"base\" data-a-size=\"xl\"><span class=\"a-offscreen\">$17.99</span><span aria-hidden=\"true\"><span class=\"a-price-symbol\">$</span><span class=\"a-price-whole\">17<span class=\"a-price-decimal\">.</span></span><span class=\"a-price-fraction\">99</span></span></span> <span class=\"a-size-base a-color-secondary\">($10.64/Fl Oz)</span> <span class=\"a-price a-text-price\" data-a-color=\"secondary\" data-a-size=\"b\" data-a-strike=\"true\"><span class=\"a-offscreen\">$19.99</span><span aria-hidden=\"true\">$19.99</span></span> </a> </div><div class=\"a-row a-size-base a-color-secondary\"><span>$17.09 with Subscribe &amp; Save discount</span></div></div><div class=\"a-section a-spacing-none a-spacing-top-micro\"><div class=\"a-row a-size-base a-color-secondary s-align-children-center\"><div class=\"a-row s-align-children-center\"><span class=\"aok-inline-block s-image-logo-view\"><span class=\"aok-relative s-icon-text-medium s-prime\"><i aria-label=\"Amazon Prime\" class=\"a-icon a-icon-prime a-icon-medium\" role=\"img\"></i></span><span></span></span> <span aria-label=\"Get it as soon as Sun, Aug 21\"><span class=\"a-color-base\">Get it as soon as </span><span class=\"a-color-base a-text-bold\">Sun, Aug 21</span></span></div><div class=\"a-row\"><span aria-label=\"FREE Shipping on orders over $25 shipped by Amazon\"><span class=\"a-color-base\">FREE Shipping on orders over $25 shipped by Amazon</span></span></div></div></div><div class=\"a-section a-spacing-none a-spacing-top-micro\"><div class=\"a-section a-spacing-none s-align-children-center\"><div><div class=\"s-align-children-center\"><span class=\"a-declarative\" data-action=\"s-pc-popover\" data-csa-c-func-deps=\"aui-da-s-pc-popover\" data-csa-c-id=\"6blll4-3s8f2c-8n7wvz-m1wk17\" data-csa-c-type=\"widget\" data-s-pc-popover='{\"closeButton\":true,\"closeButtonLabel\":\"Close popup\",\"activate\":\"onclick\",\"name\":\"pc-popover-B00S7K1432\",\"width\":339,\"popoverLabel\":\"Provenance certifications for this product\",\"position\":\"triggerBottom\",\"interactLoggingMetricsList\":[\"provenanceCertifications_desktop_sbe_badge\"]}'><a class=\"a-popover-trigger a-declarative s-no-underline s-pc-badge s-align-children-center\" href=\"javascript:void(0)\" role=\"button\"><span class=\"faceout-image-view\"></span><img alt=\"\" class=\"s-image\" height=\"18px\" src=\"https://m.media-amazon.com/images/I/31DkPH3h2nL._SS200_.png\" width=\"18px\"/> <span class=\"a-size-base a-color-base\">Small Business</span><i class=\"a-icon a-icon-popover\"></i></a></span></div></div></div><div class=\"a-popover-preload\" id=\"a-popover-pc-popover-B00S7K1432\"><div class=\"s-align-children-center\"><div class=\"s-align-children-center\"><span class=\"faceout-image-view\"></span><div alt=\"\" class=\"a-image-wrapper a-lazy-loaded a-manually-loaded s-image\" data-a-image-source=\"https://m.media-amazon.com/images/I/31DkPH3h2nL._SS200_.png\" style=\"height: 50px; width: 50px;\"><noscript>&lt;img alt=\"\" src=\"https://m.media-amazon.com/images/I/31DkPH3h2nL._SS200_.png\" height=\"50px\" width=\"50px\"/&gt;</noscript></div> <span class=\"a-size-base a-color-base a-text-bold\">Small Business</span></div></div><div class=\"a-spacing-small\"><span class=\"a-size-base a-color-secondary\">Shop products from small business brands sold in Amazon’s store. Discover more about the small businesses partnering with Amazon and Amazon’s commitment to empowering them.</span> <a class=\"a-link-normal s-underline-text s-underline-link-text s-link-style\" href=\"https://www.amazon.com/b/ref=s9_acss_bw_cg_sbp22c_1e1_w/ref=SBE_navbar_5?pf_rd_r=6W5X52VNZRB7GK1E1VX2&amp;pf_rd_p=56621c3d-cff4-45e1-9bf4-79bbeb8006fc&amp;pf_rd_m=ATVPDKIKX0DER&amp;pf_rd_s=merchandised-search-top-3&amp;pf_rd_t=30901&amp;pf_rd_i=17879387011&amp;node=18018208011\">Learn more</a> </div></div></div></div></div></div>\n",
       " </div>\n",
       " </div>\n",
       " </div></div></div>]"
      ]
     },
     "execution_count": 3,
     "metadata": {},
     "output_type": "execute_result"
    }
   ],
   "source": [
    "products= soup.findAll('div', {'data-component-type' : re.compile(\"s-search-result\")})\n",
    "products[0:2]"
   ]
  },
  {
   "cell_type": "markdown",
   "id": "8d773dcc",
   "metadata": {},
   "source": [
    "## pagination"
   ]
  },
  {
   "cell_type": "code",
   "execution_count": 4,
   "id": "1d13b843",
   "metadata": {},
   "outputs": [
    {
     "name": "stdout",
     "output_type": "stream",
     "text": [
      "https://www.amazon.com/s?k=fmultivitamin+for+kids&page=1\n",
      "https://www.amazon.com/s?k=fmultivitamin+for+kids&page=2\n",
      "https://www.amazon.com/s?k=fmultivitamin+for+kids&page=3\n",
      "https://www.amazon.com/s?k=fmultivitamin+for+kids&page=4\n",
      "https://www.amazon.com/s?k=fmultivitamin+for+kids&page=5\n",
      "https://www.amazon.com/s?k=fmultivitamin+for+kids&page=6\n",
      "https://www.amazon.com/s?k=fmultivitamin+for+kids&page=7\n",
      "done\n"
     ]
    }
   ],
   "source": [
    "serach_key = 'multivitamin for kids'\n",
    "\n",
    "serach_key = serach_key.replace(' ', '+')\n",
    "\n",
    "\n",
    "for x in range(1,1000):\n",
    "\n",
    "    url = f'https://www.amazon.com/s?k=f{serach_key}&page={x}'\n",
    "\n",
    "    print(url)\n",
    "    # make sure that splash is runing through Docker\n",
    "    r = requests.get('http://localhost:8050/render.html',params={'url':url, 'wait':2})\n",
    "\n",
    "    soup = bs(r.text, 'html.parser')\n",
    "    \n",
    "    links_href = soup.find('span', class_= re.compile('s-pagination-strip'))\n",
    "    \n",
    "    if not links_href.find('span', class_ =  re.compile('s-pagination-item s-pagination-next s-pagination-disabled')):\n",
    "        pass\n",
    "    else:\n",
    "        break\n",
    "        \n",
    "    \n",
    "print(\"done\")"
   ]
  },
  {
   "cell_type": "code",
   "execution_count": 5,
   "id": "6788d231",
   "metadata": {},
   "outputs": [
    {
     "data": {
      "text/plain": [
       "[<div class=\"sg-col-4-of-12 s-result-item s-asin sg-col-4-of-16 AdHolder sg-col s-widget-spacing-small sg-col-4-of-20\" data-asin=\"B09WYRNPLJ\" data-cel-widget=\"search_result_3\" data-component-id=\"18\" data-component-type=\"s-search-result\" data-index=\"3\" data-uuid=\"4d87970c-cbce-4ed1-886f-db8e486794f1\"><div class=\"sg-col-inner\"><div cel_widget_id=\"MAIN-SEARCH_RESULTS-3\" class=\"s-widget-container s-spacing-small s-widget-container-height-small celwidget slot=MAIN template=SEARCH_RESULTS widgetId=search-results_289\" data-cel-widget=\"MAIN-SEARCH_RESULTS-3\" data-csa-c-id=\"lwzsn0-95ufby-3e6so1-h1q5a4\">\n",
       " <div class=\"rush-component s-expand-height\" data-component-id=\"69\" data-component-props='{\"percentageShownToFire\":\"50\",\"batchable\":true,\"requiredElementSelector\":\".s-image:visible\",\"url\":\"https://unagi-na.amazon.com/1/events/com.amazon.eel.SponsoredProductsEventTracking.prod?qualifier=1660952845&amp;id=8829551186187311&amp;widgetName=sp_atf_next&amp;adId=200049278197098&amp;eventType=1&amp;adIndex=0\"}' data-component-type=\"s-impression-logger\">\n",
       " <div class=\"rush-component s-featured-result-item s-expand-height\" data-component-id=\"2\" data-component-props='{\"presenceCounterName\":\"sp_delivered\",\"testElementSelector\":\".s-image\",\"hiddenCounterName\":\"sp_hidden\"}' data-component-type=\"s-impression-counter\">\n",
       " <div class=\"s-card-container s-overflow-hidden aok-relative puis-expand-height puis-include-content-margin s-latency-cf-section s-card-border\"><div class=\"a-section a-spacing-base\"><div class=\"s-product-image-container aok-relative s-image-overlay-grey s-text-center s-padding-left-small s-padding-right-small puis-spacing-small s-height-equalized\" style=\"padding-top: 0px !important;\"><span class=\"rush-component\" data-component-type=\"s-product-image\"><a class=\"a-link-normal s-no-outline\" href=\"/gp/slredirect/picassoRedirect.html/ref=pa_sp_atf_next_aps_sr_pg7_1?ie=UTF8&amp;adId=A00169183KVV49W94TP6S&amp;url=%2FCentrum-Multivitamin-Gummies-Tropical-Natural%2Fdp%2FB09WYRNPLJ%2Fref%3Dsr_1_289_sspa%3Fkeywords%3Dmultivitamin%2Bfor%2Bkids%26qid%3D1660952845%26sr%3D8-289-spons%26psc%3D1&amp;qualifier=1660952845&amp;id=8829551186187311&amp;widgetName=sp_atf_next\"><div class=\"a-section aok-relative s-image-square-aspect\"><img alt=\"Sponsored Ad - Centrum Kids Multivitamin Gummies, Tropical Punch Flavor Made with Natural Flavors, 110 Count, 110 Day Supply\" class=\"s-image\" data-image-index=\"289\" data-image-latency=\"s-product-image\" data-image-load=\"\" data-image-source-density=\"1\" src=\"https://m.media-amazon.com/images/I/71eit45DWaL._AC_UL320_.jpg\" srcset=\"https://m.media-amazon.com/images/I/71eit45DWaL._AC_UL320_.jpg 1x, https://m.media-amazon.com/images/I/71eit45DWaL._AC_UL480_QL65_.jpg 1.5x, https://m.media-amazon.com/images/I/71eit45DWaL._AC_UL640_QL65_.jpg 2x, https://m.media-amazon.com/images/I/71eit45DWaL._AC_UL800_QL65_.jpg 2.5x, https://m.media-amazon.com/images/I/71eit45DWaL._AC_UL960_QL65_.jpg 3x\"/></div></a></span></div><div class=\"a-section a-spacing-small puis-padding-left-small puis-padding-right-small\"><div class=\"a-section a-spacing-none a-spacing-top-small s-title-instructions-style\"><div class=\"a-row a-spacing-micro\"><span class=\"a-declarative\" data-a-popover='{\"closeButton\":\"true\",\"dataStrategy\":\"preload\",\"name\":\"sp-info-popover-B09WYRNPLJ\",\"position\":\"triggerVertical\"}' data-action=\"a-popover\" data-csa-c-func-deps=\"aui-da-a-popover\" data-csa-c-id=\"7mkb86-4vs5y2-130om3-h6wil\" data-csa-c-type=\"widget\"><a aria-label=\"View Sponsored information or leave ad feedback\" class=\"s-label-popover s-sponsored-label-text\" href=\"javascript:void(0)\" role=\"button\" style=\"text-decoration: none;\"><span class=\"s-label-popover-default\"><span class=\"a-color-secondary\">Sponsored</span></span><span class=\"s-label-popover-hover\"><span class=\"a-color-base\">Sponsored</span></span> <span class=\"aok-inline-block s-sponsored-label-info-icon\"></span></a></span><div class=\"a-popover-preload\" id=\"a-popover-sp-info-popover-B09WYRNPLJ\"><span>You’re seeing this ad based on the product’s relevance to your search query.</span><div class=\"a-row\"><span class=\"a-declarative\" data-action=\"s-safe-ajax-modal-trigger\" data-csa-c-func-deps=\"aui-da-s-safe-ajax-modal-trigger\" data-csa-c-id=\"fnxldh-iv8ngm-fwvhrw-iyszi1\" data-csa-c-type=\"widget\" data-s-safe-ajax-modal-trigger='{\"ajaxUrl\":\"/af/sp-loom/feedback-form?pl=%7B%22adPlacementMetaData%22%3A%7B%22searchTerms%22%3A%22bXVsdGl2aXRhbWluIGZvciBraWRz%22%2C%22pageType%22%3A%22Search%22%2C%22feedbackType%22%3A%22sponsoredProductsLoom%22%2C%22slotName%22%3A%22TOP%22%7D%2C%22adCreativeMetaData%22%3A%7B%22adProgramId%22%3A1024%2C%22adCreativeDetails%22%3A%5B%7B%22asin%22%3A%22B09WYRNPLJ%22%2C%22title%22%3A%22Centrum+Kids+Multivitamin+Gummies%2C+Tropical+Punch+Flavor+Made+with+Natural+Flavors%2C+110+Count%2C+110+D%22%2C%22priceInfo%22%3A%7B%22amount%22%3A10.47%2C%22currencyCode%22%3A%22USD%22%7D%2C%22sku%22%3A%22B09WYRNPLJ%22%2C%22adId%22%3A%22A00169183KVV49W94TP6S%22%2C%22campaignId%22%3A%22A0844393190J0MZUCPRQZ%22%7D%5D%7D%7D\",\"dataStrategy\":\"ajax\",\"header\":\"Share your feedback\"}'><a class=\"a-link-normal s-underline-text s-underline-link-text s-link-style\" href=\"#\"><span>Leave ad feedback</span> </a> </span></div></div></div><h2 class=\"a-size-mini a-spacing-none a-color-base s-line-clamp-3\"><a class=\"a-link-normal s-underline-text s-underline-link-text s-link-style a-text-normal\" href=\"/gp/slredirect/picassoRedirect.html/ref=pa_sp_atf_next_aps_sr_pg7_1?ie=UTF8&amp;adId=A00169183KVV49W94TP6S&amp;url=%2FCentrum-Multivitamin-Gummies-Tropical-Natural%2Fdp%2FB09WYRNPLJ%2Fref%3Dsr_1_289_sspa%3Fkeywords%3Dmultivitamin%2Bfor%2Bkids%26qid%3D1660952845%26sr%3D8-289-spons%26psc%3D1&amp;qualifier=1660952845&amp;id=8829551186187311&amp;widgetName=sp_atf_next\"><span class=\"a-size-base-plus a-color-base a-text-normal\">Centrum Kids Multivitamin Gummies, Tropical Punch Flavor Made with Natural Flavors, 110 Count, 110 Day Supply</span> </a> </h2><div class=\"a-row a-size-base a-color-secondary\"><div class=\"a-row\"><div class=\"a-row a-spacing-top-micro a-color-base\"><span class=\"a-color-information a-text-bold\">110 Count (Pack of 1)</span></div></div></div></div><div class=\"a-section a-spacing-none a-spacing-top-micro\"><div class=\"a-row a-size-small\"><span aria-label=\"4.8 out of 5 stars\"><span class=\"a-declarative\" data-a-popover='{\"closeButton\":false,\"closeButtonLabel\":\"\",\"position\":\"triggerBottom\",\"popoverLabel\":\"\",\"url\":\"/review/widgets/average-customer-review/popover/ref=acr_search__popover?ie=UTF8&amp;asin=B09WYRNPLJ&amp;ref=acr_search__popover&amp;contextId=search\"}' data-action=\"a-popover\" data-csa-c-func-deps=\"aui-da-a-popover\" data-csa-c-id=\"hbfpjx-p78gh9-vk6ng1-yk8mh7\" data-csa-c-type=\"widget\"><a class=\"a-popover-trigger a-declarative\" href=\"javascript:void(0)\" role=\"button\"><i class=\"a-icon a-icon-star-small a-star-small-5 aok-align-bottom\"><span class=\"a-icon-alt\">4.8 out of 5 stars</span></i><i class=\"a-icon a-icon-popover\"></i></a></span> </span><span aria-label=\"353\"><a class=\"a-link-normal s-underline-text s-underline-link-text s-link-style\" href=\"/gp/slredirect/picassoRedirect.html/ref=pa_sp_atf_next_aps_sr_pg7_1?ie=UTF8&amp;adId=A00169183KVV49W94TP6S&amp;url=%2FCentrum-Multivitamin-Gummies-Tropical-Natural%2Fdp%2FB09WYRNPLJ%2Fref%3Dsr_1_289_sspa%3Fkeywords%3Dmultivitamin%2Bfor%2Bkids%26qid%3D1660952845%26sr%3D8-289-spons%26psc%3D1&amp;qualifier=1660952845&amp;id=8829551186187311&amp;widgetName=sp_atf_next#customerReviews\"><span class=\"a-size-base s-underline-text\">353</span> </a> </span></div></div><div class=\"a-section a-spacing-none a-spacing-top-small s-price-instructions-style\"><div class=\"a-row a-size-base a-color-base\"><a class=\"a-size-base a-link-normal s-underline-text s-underline-link-text s-link-style a-text-normal\" href=\"/gp/slredirect/picassoRedirect.html/ref=pa_sp_atf_next_aps_sr_pg7_1?ie=UTF8&amp;adId=A00169183KVV49W94TP6S&amp;url=%2FCentrum-Multivitamin-Gummies-Tropical-Natural%2Fdp%2FB09WYRNPLJ%2Fref%3Dsr_1_289_sspa%3Fkeywords%3Dmultivitamin%2Bfor%2Bkids%26qid%3D1660952845%26sr%3D8-289-spons%26psc%3D1&amp;qualifier=1660952845&amp;id=8829551186187311&amp;widgetName=sp_atf_next\"><span class=\"a-price\" data-a-color=\"base\" data-a-size=\"xl\"><span class=\"a-offscreen\">$10.47</span><span aria-hidden=\"true\"><span class=\"a-price-symbol\">$</span><span class=\"a-price-whole\">10<span class=\"a-price-decimal\">.</span></span><span class=\"a-price-fraction\">47</span></span></span> <span class=\"a-size-base a-color-secondary\">($0.10/Count)</span> </a> </div></div><div class=\"a-section a-spacing-none a-spacing-top-micro\"><div class=\"a-row a-size-base a-color-secondary s-align-children-center\"><div class=\"a-row s-align-children-center\"><span class=\"aok-inline-block s-image-logo-view\"><span class=\"aok-relative s-icon-text-medium s-prime\"><i aria-label=\"Amazon Prime\" class=\"a-icon a-icon-prime a-icon-medium\" role=\"img\"></i></span><span></span></span> </div><div class=\"a-row\"><span aria-label=\"FREE Shipping on orders over $25 shipped by Amazon\"><span class=\"a-color-base\">FREE Shipping on orders over $25 shipped by Amazon</span></span></div></div><div class=\"a-row a-size-base a-color-secondary\"><span aria-label=\"Usually ships within 1 to 2 months.\"><span class=\"a-size-small\">Usually ships within 1 to 2 months.</span></span></div></div></div></div></div>\n",
       " </div>\n",
       " </div>\n",
       " </div></div></div>,\n",
       " <div class=\"sg-col-4-of-12 s-result-item s-asin sg-col-4-of-16 AdHolder sg-col s-widget-spacing-small sg-col-4-of-20\" data-asin=\"B09YKGM7N5\" data-cel-widget=\"search_result_4\" data-component-id=\"19\" data-component-type=\"s-search-result\" data-index=\"4\" data-uuid=\"21144b4f-288c-4c3b-bbfc-3f9094585530\"><div class=\"sg-col-inner\"><div cel_widget_id=\"MAIN-SEARCH_RESULTS-4\" class=\"s-widget-container s-spacing-small s-widget-container-height-small celwidget slot=MAIN template=SEARCH_RESULTS widgetId=search-results_290\" data-cel-widget=\"MAIN-SEARCH_RESULTS-4\" data-csa-c-id=\"zf0dko-9jjznq-z2v472-g1o5sw\">\n",
       " <div class=\"rush-component s-expand-height\" data-component-id=\"70\" data-component-props='{\"percentageShownToFire\":\"50\",\"batchable\":true,\"requiredElementSelector\":\".s-image:visible\",\"url\":\"https://unagi-na.amazon.com/1/events/com.amazon.eel.SponsoredProductsEventTracking.prod?qualifier=1660952845&amp;id=8829551186187311&amp;widgetName=sp_atf_next&amp;adId=200053289558998&amp;eventType=1&amp;adIndex=1\"}' data-component-type=\"s-impression-logger\">\n",
       " <div class=\"rush-component s-featured-result-item s-expand-height\" data-component-id=\"3\" data-component-props='{\"presenceCounterName\":\"sp_delivered\",\"testElementSelector\":\".s-image\",\"hiddenCounterName\":\"sp_hidden\"}' data-component-type=\"s-impression-counter\">\n",
       " <div class=\"s-card-container s-overflow-hidden aok-relative puis-expand-height puis-include-content-margin s-latency-cf-section s-card-border\"><div class=\"a-section a-spacing-base\"><div class=\"s-product-image-container aok-relative s-image-overlay-grey s-text-center s-padding-left-small s-padding-right-small puis-spacing-small s-height-equalized\" style=\"padding-top: 0px !important;\"><span class=\"rush-component\" data-component-type=\"s-product-image\"><a class=\"a-link-normal s-no-outline\" href=\"/gp/slredirect/picassoRedirect.html/ref=pa_sp_atf_next_aps_sr_pg7_1?ie=UTF8&amp;adId=A0642201LOT1OKYZY97G&amp;url=%2FMaryRuths-Theanine-L-Theanine-Glycerin-Supplement%2Fdp%2FB09YKGM7N5%2Fref%3Dsr_1_290_sspa%3Fkeywords%3Dmultivitamin%2Bfor%2Bkids%26qid%3D1660952845%26sr%3D8-290-spons%26psc%3D1%26smid%3DA3V1QNHQ2M2TBN&amp;qualifier=1660952845&amp;id=8829551186187311&amp;widgetName=sp_atf_next\"><div class=\"a-section aok-relative s-image-square-aspect\"><img alt=\"Sponsored Ad - MaryRuth's L Theanine 200mg Liquid Drops | L-Theanine + Organic Glycerin | Stress Relief for Adults &amp; Kids...\" class=\"s-image\" data-image-index=\"290\" data-image-latency=\"s-product-image\" data-image-load=\"\" data-image-source-density=\"1\" src=\"https://m.media-amazon.com/images/I/61rswKq5+DL._AC_UL320_.jpg\" srcset=\"https://m.media-amazon.com/images/I/61rswKq5+DL._AC_UL320_.jpg 1x, https://m.media-amazon.com/images/I/61rswKq5+DL._AC_UL480_QL65_.jpg 1.5x, https://m.media-amazon.com/images/I/61rswKq5+DL._AC_UL640_QL65_.jpg 2x, https://m.media-amazon.com/images/I/61rswKq5+DL._AC_UL800_QL65_.jpg 2.5x, https://m.media-amazon.com/images/I/61rswKq5+DL._AC_UL960_QL65_.jpg 3x\"/></div></a></span></div><div class=\"a-section a-spacing-small puis-padding-left-small puis-padding-right-small\"><div class=\"a-section a-spacing-none a-spacing-top-small s-title-instructions-style\"><div class=\"a-row a-spacing-micro\"><span class=\"a-declarative\" data-a-popover='{\"closeButton\":\"true\",\"dataStrategy\":\"preload\",\"name\":\"sp-info-popover-B09YKGM7N5\",\"position\":\"triggerVertical\"}' data-action=\"a-popover\" data-csa-c-func-deps=\"aui-da-a-popover\" data-csa-c-id=\"rb4khc-lugmc9-rwgm8m-9yh5x5\" data-csa-c-type=\"widget\"><a aria-label=\"View Sponsored information or leave ad feedback\" class=\"s-label-popover s-sponsored-label-text\" href=\"javascript:void(0)\" role=\"button\" style=\"text-decoration: none;\"><span class=\"s-label-popover-default\"><span class=\"a-color-secondary\">Sponsored</span></span><span class=\"s-label-popover-hover\"><span class=\"a-color-base\">Sponsored</span></span> <span class=\"aok-inline-block s-sponsored-label-info-icon\"></span></a></span><div class=\"a-popover-preload\" id=\"a-popover-sp-info-popover-B09YKGM7N5\"><span>You’re seeing this ad based on the product’s relevance to your search query.</span><div class=\"a-row\"><span class=\"a-declarative\" data-action=\"s-safe-ajax-modal-trigger\" data-csa-c-func-deps=\"aui-da-s-safe-ajax-modal-trigger\" data-csa-c-id=\"4xj3tx-n1tkc0-7gtef2-qe0y44\" data-csa-c-type=\"widget\" data-s-safe-ajax-modal-trigger='{\"ajaxUrl\":\"/af/sp-loom/feedback-form?pl=%7B%22adPlacementMetaData%22%3A%7B%22searchTerms%22%3A%22bXVsdGl2aXRhbWluIGZvciBraWRz%22%2C%22pageType%22%3A%22Search%22%2C%22feedbackType%22%3A%22sponsoredProductsLoom%22%2C%22slotName%22%3A%22TOP%22%7D%2C%22adCreativeMetaData%22%3A%7B%22adProgramId%22%3A1024%2C%22adCreativeDetails%22%3A%5B%7B%22asin%22%3A%22B09YKGM7N5%22%2C%22title%22%3A%22MaryRuth%27s+L+Theanine+200mg+Liquid+Drops+%7C+L-Theanine+%2B+Organic+Glycerin+%7C+Stress+Relief+for+Adults+%22%2C%22priceInfo%22%3A%7B%22amount%22%3A24.95%2C%22currencyCode%22%3A%22USD%22%7D%2C%22sku%22%3A%22LTheanineLemLim2oz-SP%22%2C%22adId%22%3A%22A0642201LOT1OKYZY97G%22%2C%22campaignId%22%3A%22A08023472Y2XOIBIM852%22%7D%5D%7D%7D\",\"dataStrategy\":\"ajax\",\"header\":\"Share your feedback\"}'><a class=\"a-link-normal s-underline-text s-underline-link-text s-link-style\" href=\"#\"><span>Leave ad feedback</span> </a> </span></div></div></div><h2 class=\"a-size-mini a-spacing-none a-color-base s-line-clamp-3\"><a class=\"a-link-normal s-underline-text s-underline-link-text s-link-style a-text-normal\" href=\"/gp/slredirect/picassoRedirect.html/ref=pa_sp_atf_next_aps_sr_pg7_1?ie=UTF8&amp;adId=A0642201LOT1OKYZY97G&amp;url=%2FMaryRuths-Theanine-L-Theanine-Glycerin-Supplement%2Fdp%2FB09YKGM7N5%2Fref%3Dsr_1_290_sspa%3Fkeywords%3Dmultivitamin%2Bfor%2Bkids%26qid%3D1660952845%26sr%3D8-290-spons%26psc%3D1%26smid%3DA3V1QNHQ2M2TBN&amp;qualifier=1660952845&amp;id=8829551186187311&amp;widgetName=sp_atf_next\"><span class=\"a-size-base-plus a-color-base a-text-normal\">MaryRuth's L Theanine 200mg Liquid Drops | L-Theanine + Organic Glycerin | Stress Relief for Adults &amp; Kids | Focus Supplement | Natural Sleep Support | Vegan | Non-GMO | Gluten Free | 30 Servings</span> </a> </h2><div class=\"a-row a-size-base a-color-secondary\"><div class=\"a-row\"><div class=\"a-row a-spacing-top-micro a-color-base\"><span class=\"a-color-information a-text-bold\">2 Fl Oz</span></div></div></div></div><div class=\"a-section a-spacing-none a-spacing-top-micro\"><div class=\"a-row a-size-small\"><span aria-label=\"4.6 out of 5 stars\"><span class=\"a-declarative\" data-a-popover='{\"closeButton\":false,\"closeButtonLabel\":\"\",\"position\":\"triggerBottom\",\"popoverLabel\":\"\",\"url\":\"/review/widgets/average-customer-review/popover/ref=acr_search__popover?ie=UTF8&amp;asin=B09YKGM7N5&amp;ref=acr_search__popover&amp;contextId=search\"}' data-action=\"a-popover\" data-csa-c-func-deps=\"aui-da-a-popover\" data-csa-c-id=\"ozqenj-p0m102-fgcja4-b1jfu1\" data-csa-c-type=\"widget\"><a class=\"a-popover-trigger a-declarative\" href=\"javascript:void(0)\" role=\"button\"><i class=\"a-icon a-icon-star-small a-star-small-4-5 aok-align-bottom\"><span class=\"a-icon-alt\">4.6 out of 5 stars</span></i><i class=\"a-icon a-icon-popover\"></i></a></span> </span><span aria-label=\"55\"><a class=\"a-link-normal s-underline-text s-underline-link-text s-link-style\" href=\"/gp/slredirect/picassoRedirect.html/ref=pa_sp_atf_next_aps_sr_pg7_1?ie=UTF8&amp;adId=A0642201LOT1OKYZY97G&amp;url=%2FMaryRuths-Theanine-L-Theanine-Glycerin-Supplement%2Fdp%2FB09YKGM7N5%2Fref%3Dsr_1_290_sspa%3Fkeywords%3Dmultivitamin%2Bfor%2Bkids%26qid%3D1660952845%26sr%3D8-290-spons%26psc%3D1%26smid%3DA3V1QNHQ2M2TBN&amp;qualifier=1660952845&amp;id=8829551186187311&amp;widgetName=sp_atf_next#customerReviews\"><span class=\"a-size-base s-underline-text\">55</span> </a> </span></div></div><div class=\"a-section a-spacing-none a-spacing-top-small s-price-instructions-style\"><div class=\"a-row a-size-base a-color-base\"><a class=\"a-size-base a-link-normal s-underline-text s-underline-link-text s-link-style a-text-normal\" href=\"/gp/slredirect/picassoRedirect.html/ref=pa_sp_atf_next_aps_sr_pg7_1?ie=UTF8&amp;adId=A0642201LOT1OKYZY97G&amp;url=%2FMaryRuths-Theanine-L-Theanine-Glycerin-Supplement%2Fdp%2FB09YKGM7N5%2Fref%3Dsr_1_290_sspa%3Fkeywords%3Dmultivitamin%2Bfor%2Bkids%26qid%3D1660952845%26sr%3D8-290-spons%26psc%3D1%26smid%3DA3V1QNHQ2M2TBN&amp;qualifier=1660952845&amp;id=8829551186187311&amp;widgetName=sp_atf_next\"><span class=\"a-price\" data-a-color=\"base\" data-a-size=\"xl\"><span class=\"a-offscreen\">$24.95</span><span aria-hidden=\"true\"><span class=\"a-price-symbol\">$</span><span class=\"a-price-whole\">24<span class=\"a-price-decimal\">.</span></span><span class=\"a-price-fraction\">95</span></span></span> <span class=\"a-size-base a-color-secondary\">($12.48/Fl Oz)</span> </a> </div><div class=\"a-row a-size-base a-color-secondary\"><span>$22.46 with Subscribe &amp; Save discount</span></div></div><div class=\"a-section a-spacing-none a-spacing-top-micro\"><div class=\"a-row a-size-base a-color-secondary s-align-children-center\"><div class=\"a-row s-align-children-center\"><span class=\"aok-inline-block s-image-logo-view\"><span class=\"aok-relative s-icon-text-medium s-prime\"><i aria-label=\"Amazon Prime\" class=\"a-icon a-icon-prime a-icon-medium\" role=\"img\"></i></span><span></span></span> <span aria-label=\"Get it as soon as Sun, Aug 21\"><span class=\"a-color-base\">Get it as soon as </span><span class=\"a-color-base a-text-bold\">Sun, Aug 21</span></span></div><div class=\"a-row\"><span aria-label=\"FREE Shipping on orders over $25 shipped by Amazon\"><span class=\"a-color-base\">FREE Shipping on orders over $25 shipped by Amazon</span></span></div></div></div></div></div></div>\n",
       " </div>\n",
       " </div>\n",
       " </div></div></div>]"
      ]
     },
     "execution_count": 5,
     "metadata": {},
     "output_type": "execute_result"
    }
   ],
   "source": [
    "products= soup.findAll('div', {'data-component-type' : re.compile(\"s-search-result\")})\n",
    "products[0:2]"
   ]
  },
  {
   "cell_type": "code",
   "execution_count": 6,
   "id": "9f3717dd",
   "metadata": {},
   "outputs": [
    {
     "name": "stdout",
     "output_type": "stream",
     "text": [
      "https://www.amazon.com/s?k=fmultivitamin+for+kids&page=1\n",
      "https://www.amazon.com/s?k=fmultivitamin+for+kids&page=2\n",
      "https://www.amazon.com/s?k=fmultivitamin+for+kids&page=3\n",
      "https://www.amazon.com/s?k=fmultivitamin+for+kids&page=4\n",
      "https://www.amazon.com/s?k=fmultivitamin+for+kids&page=5\n",
      "https://www.amazon.com/s?k=fmultivitamin+for+kids&page=6\n",
      "https://www.amazon.com/s?k=fmultivitamin+for+kids&page=7\n"
     ]
    }
   ],
   "source": [
    "\n",
    "serach_key = 'multivitamin for kids'\n",
    "\n",
    "serach_key = serach_key.replace(' ', '+').strip()\n",
    "\n",
    "results_list = []\n",
    "\n",
    "\n",
    "\n",
    "for x in range(1,100):\n",
    "\n",
    "    url = f'https://www.amazon.com/s?k=f{serach_key}&page={x}'\n",
    "\n",
    "    print(url)\n",
    "    # make sure that splash is runing through Docker\n",
    "    r = requests.get('http://localhost:8050/render.html',params={'url':url, 'wait':2})\n",
    "\n",
    "    soup = bs(r.text, 'html.parser')\n",
    "    \n",
    "    links_href = soup.find('span', class_= re.compile('s-pagination-strip'))\n",
    "    \n",
    "    if not links_href.find('span', class_ =  re.compile('s-pagination-item s-pagination-next s-pagination-disabled')):\n",
    "        pass\n",
    "    else:\n",
    "        break\n",
    "    \n",
    "    for item in soup.findAll('div', {'data-component-type' : re.compile(\"s-search-result\")}):\n",
    "        \n",
    "        description = item.find('span', class_= re.compile('a-size-base-plus a-color-base a-text-normal')).string\n",
    "\n",
    "        try:\n",
    "            number_rates = item.find('span', class_= re.compile('a-size-base.s-underline-text')).text\n",
    "        except: number_rates = 0\n",
    "\n",
    "        try:\n",
    "            rating = item.find('span', class_= re.compile('a-icon-alt')).string.split()[0]\n",
    "        except: \n",
    "            rating = 0\n",
    "\n",
    "        try:\n",
    "            price = item.find('span', class_='a-offscreen').text.replace('$','')\n",
    "        except:\n",
    "             price = 'none'\n",
    "\n",
    "        link= item.find('a').attrs['href']\n",
    "        url = 'https://www.amazon.com' + link\n",
    "\n",
    "        prod = {\n",
    "            'description': description,\n",
    "            'number_rates': number_rates,\n",
    "            'rating' : rating,\n",
    "            'price' : price,\n",
    "            'url' : url     \n",
    "        }\n",
    "\n",
    "        results_list.append(prod)\n",
    "\n",
    "    \n"
   ]
  },
  {
   "cell_type": "code",
   "execution_count": 7,
   "id": "1faf4ebb",
   "metadata": {},
   "outputs": [
    {
     "name": "stdout",
     "output_type": "stream",
     "text": [
      "360\n"
     ]
    }
   ],
   "source": [
    "print(len(results_list))"
   ]
  },
  {
   "cell_type": "code",
   "execution_count": 8,
   "id": "22b5634f",
   "metadata": {},
   "outputs": [
    {
     "data": {
      "text/html": [
       "<div>\n",
       "<style scoped>\n",
       "    .dataframe tbody tr th:only-of-type {\n",
       "        vertical-align: middle;\n",
       "    }\n",
       "\n",
       "    .dataframe tbody tr th {\n",
       "        vertical-align: top;\n",
       "    }\n",
       "\n",
       "    .dataframe thead th {\n",
       "        text-align: right;\n",
       "    }\n",
       "</style>\n",
       "<table border=\"1\" class=\"dataframe\">\n",
       "  <thead>\n",
       "    <tr style=\"text-align: right;\">\n",
       "      <th></th>\n",
       "      <th>description</th>\n",
       "      <th>number_rates</th>\n",
       "      <th>rating</th>\n",
       "      <th>price</th>\n",
       "      <th>url</th>\n",
       "    </tr>\n",
       "  </thead>\n",
       "  <tbody>\n",
       "    <tr>\n",
       "      <th>0</th>\n",
       "      <td>Amazon Brand - Solimo Kids' Multivitamin, 190 ...</td>\n",
       "      <td>3,759</td>\n",
       "      <td>4.8</td>\n",
       "      <td>11.88</td>\n",
       "      <td>https://www.amazon.com/sspa/click?ie=UTF8&amp;spc=...</td>\n",
       "    </tr>\n",
       "    <tr>\n",
       "      <th>1</th>\n",
       "      <td>Centrum Kids Multivitamin Gummies, Tropical Pu...</td>\n",
       "      <td>353</td>\n",
       "      <td>4.8</td>\n",
       "      <td>10.47</td>\n",
       "      <td>https://www.amazon.com/sspa/click?ie=UTF8&amp;spc=...</td>\n",
       "    </tr>\n",
       "    <tr>\n",
       "      <th>2</th>\n",
       "      <td>Whole Fruit Gummy Vitamins for Kids No Added S...</td>\n",
       "      <td>1,772</td>\n",
       "      <td>4.3</td>\n",
       "      <td>25.95</td>\n",
       "      <td>https://www.amazon.com/sspa/click?ie=UTF8&amp;spc=...</td>\n",
       "    </tr>\n",
       "    <tr>\n",
       "      <th>3</th>\n",
       "      <td>NATURELO Whole Food Multivitamin for Teens - V...</td>\n",
       "      <td>5,321</td>\n",
       "      <td>4.6</td>\n",
       "      <td>24.95</td>\n",
       "      <td>https://www.amazon.com/sspa/click?ie=UTF8&amp;spc=...</td>\n",
       "    </tr>\n",
       "    <tr>\n",
       "      <th>4</th>\n",
       "      <td>Lil Critters Gummy Vites Daily Kids Gummy Mult...</td>\n",
       "      <td>32,874</td>\n",
       "      <td>4.8</td>\n",
       "      <td>11.88</td>\n",
       "      <td>https://www.amazon.com/Lil-Critters-Gummy-Comp...</td>\n",
       "    </tr>\n",
       "  </tbody>\n",
       "</table>\n",
       "</div>"
      ],
      "text/plain": [
       "                                         description number_rates rating  \\\n",
       "0  Amazon Brand - Solimo Kids' Multivitamin, 190 ...        3,759    4.8   \n",
       "1  Centrum Kids Multivitamin Gummies, Tropical Pu...          353    4.8   \n",
       "2  Whole Fruit Gummy Vitamins for Kids No Added S...        1,772    4.3   \n",
       "3  NATURELO Whole Food Multivitamin for Teens - V...        5,321    4.6   \n",
       "4  Lil Critters Gummy Vites Daily Kids Gummy Mult...       32,874    4.8   \n",
       "\n",
       "   price                                                url  \n",
       "0  11.88  https://www.amazon.com/sspa/click?ie=UTF8&spc=...  \n",
       "1  10.47  https://www.amazon.com/sspa/click?ie=UTF8&spc=...  \n",
       "2  25.95  https://www.amazon.com/sspa/click?ie=UTF8&spc=...  \n",
       "3  24.95  https://www.amazon.com/sspa/click?ie=UTF8&spc=...  \n",
       "4  11.88  https://www.amazon.com/Lil-Critters-Gummy-Comp...  "
      ]
     },
     "execution_count": 8,
     "metadata": {},
     "output_type": "execute_result"
    }
   ],
   "source": [
    "df = pd.DataFrame(results_list) ## to make pandas dataframe\n",
    "df.head()"
   ]
  },
  {
   "cell_type": "code",
   "execution_count": 9,
   "id": "06f448b9",
   "metadata": {},
   "outputs": [
    {
     "data": {
      "text/plain": [
       "360"
      ]
     },
     "execution_count": 9,
     "metadata": {},
     "output_type": "execute_result"
    }
   ],
   "source": [
    "len(df.price)"
   ]
  },
  {
   "cell_type": "code",
   "execution_count": 10,
   "id": "99b08e27",
   "metadata": {},
   "outputs": [],
   "source": [
    "df.to_csv('Multivitamines_kids.csv') ## to save data in a csv file.\n"
   ]
  },
  {
   "cell_type": "code",
   "execution_count": null,
   "id": "b2531026",
   "metadata": {},
   "outputs": [],
   "source": []
  }
 ],
 "metadata": {
  "kernelspec": {
   "display_name": "Python 3 (ipykernel)",
   "language": "python",
   "name": "python3"
  },
  "language_info": {
   "codemirror_mode": {
    "name": "ipython",
    "version": 3
   },
   "file_extension": ".py",
   "mimetype": "text/x-python",
   "name": "python",
   "nbconvert_exporter": "python",
   "pygments_lexer": "ipython3",
   "version": "3.9.12"
  },
  "toc": {
   "base_numbering": 1,
   "nav_menu": {},
   "number_sections": true,
   "sideBar": true,
   "skip_h1_title": false,
   "title_cell": "Table of Contents",
   "title_sidebar": "Contents",
   "toc_cell": false,
   "toc_position": {},
   "toc_section_display": true,
   "toc_window_display": false
  }
 },
 "nbformat": 4,
 "nbformat_minor": 5
}
